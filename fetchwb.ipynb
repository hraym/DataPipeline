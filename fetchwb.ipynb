{
 "cells": [
  {
   "cell_type": "code",
   "execution_count": 4,
   "id": "1a39309e-7440-43c6-ac35-c53982b72f99",
   "metadata": {},
   "outputs": [],
   "source": [
    "import requests\n",
    "import pandas as pd\n",
    "from typing import List, Union\n",
    "import logging\n",
    "\n",
    "# Configure logging\n",
    "logging.basicConfig(level=logging.INFO, format='%(asctime)s - %(levelname)s - %(message)s')\n",
    "logger = logging.getLogger(__name__)\n",
    "\n",
    "# Constants\n",
    "WORLD_BANK_URL = 'http://api.worldbank.org/v2'\n",
    "\n",
    "def fetch_world_bank_data(indicator: str, countries: Union[str, List[str]], start_year: int = 1960, end_year: int = None) -> pd.DataFrame:\n",
    "    \"\"\"Fetch data for specified years and countries for a given indicator from the World Bank API.\"\"\"\n",
    "    if end_year is None:\n",
    "        end_year = pd.Timestamp.now().year\n",
    "    \n",
    "    countries_str = ';'.join(countries) if isinstance(countries, list) else countries\n",
    "    \n",
    "    url = f\"{WORLD_BANK_URL}/country/{countries_str}/indicator/{indicator}\"\n",
    "    params = {\n",
    "        'format': 'json',\n",
    "        'per_page': 10000,  \n",
    "        'date': f\"{start_year}:{end_year}\"\n",
    "    }\n",
    "    \n",
    "    all_data = []\n",
    "    page = 1\n",
    "    \n",
    "    while True:\n",
    "        params['page'] = page\n",
    "        try:\n",
    "            response = requests.get(url, params=params)\n",
    "            response.raise_for_status()\n",
    "            data = response.json()\n",
    "            \n",
    "            if not data or len(data) < 2 or not data[1]:\n",
    "                break\n",
    "            \n",
    "            all_data.extend(data[1])\n",
    "            \n",
    "            if len(data[1]) < params['per_page']:\n",
    "                break\n",
    "            \n",
    "            page += 1\n",
    "        except requests.RequestException as e:\n",
    "            logger.error(f\"Error fetching data: {str(e)}\")\n",
    "            break\n",
    "    \n",
    "    return process_world_bank_data(all_data, indicator)\n",
    "\n",
    "def process_world_bank_data(data: List[dict], indicator: str) -> pd.DataFrame:\n",
    "    \"\"\"Process the fetched World Bank data into a DataFrame.\"\"\"\n",
    "    if not data:\n",
    "        logger.warning(f\"No data retrieved for indicator: {indicator}\")\n",
    "        return pd.DataFrame()\n",
    "\n",
    "    df = pd.DataFrame(data)\n",
    "    \n",
    "    df['country_name'] = df['country'].apply(lambda x: x['value'] if isinstance(x, dict) else x)\n",
    "    df['value'] = pd.to_numeric(df['value'], errors='coerce')\n",
    "    df['date'] = pd.to_datetime(df['date'], format='%Y')\n",
    "    \n",
    "    df = df.drop(columns=['indicator', 'obs_status', 'decimal', 'country', 'unit'])\n",
    "    df = df.rename(columns={'countryiso3code': 'country_code', 'date': 'year', 'value': indicator})\n",
    "    \n",
    "    return df.set_index(['country_name', 'country_code', 'year']).sort_index()\n",
    "\n",
    "def get_world_bank_data(indicator: str, countries: Union[str, List[str]], start_year: int = 1960, end_year: int = None) -> pd.DataFrame:\n",
    "    \"\"\"Fetch and process World Bank data for a given indicator.\"\"\"\n",
    "    try:\n",
    "        df = fetch_world_bank_data(indicator, countries, start_year, end_year)\n",
    "        logger.info(f\"Successfully retrieved data for {indicator}\")\n",
    "        return df\n",
    "    except Exception as e:\n",
    "        logger.exception(f\"Error retrieving data for {indicator}: {str(e)}\")\n",
    "        return pd.DataFrame()"
   ]
  },
  {
   "cell_type": "code",
   "execution_count": 5,
   "id": "4a0e763c-e71b-43e4-9abf-ad162f80679a",
   "metadata": {},
   "outputs": [
    {
     "name": "stderr",
     "output_type": "stream",
     "text": [
      "2024-08-07 16:46:47,666 - INFO - Successfully retrieved data for NY.GDP.PCAP.CD\n"
     ]
    },
    {
     "name": "stdout",
     "output_type": "stream",
     "text": [
      "                                      NY.GDP.PCAP.CD\n",
      "country_name country_code year                      \n",
      "Japan        JPN          1960-01-01      508.702779\n",
      "                          1961-01-01      608.864581\n",
      "                          1962-01-01      684.565510\n",
      "                          1963-01-01      775.592123\n",
      "                          1964-01-01      902.867722\n"
     ]
    }
   ],
   "source": [
    "#Example\n",
    "if __name__ == \"__main__\":\n",
    "    indicator = \"NY.GDP.PCAP.CD\"\n",
    "    countries = [\"USA\", \"UKR\", \"JPN\"]\n",
    "    start_year = 1960\n",
    "    end_year = 2020\n",
    "    df = get_world_bank_data(indicator, countries, start_year, end_year)\n",
    "    print(df.head())"
   ]
  },
  {
   "cell_type": "code",
   "execution_count": 6,
   "id": "8e4f69c4-eb74-43c7-9441-b57fbda2f4d5",
   "metadata": {},
   "outputs": [
    {
     "ename": "NameError",
     "evalue": "name 'test' is not defined",
     "output_type": "error",
     "traceback": [
      "\u001b[0;31m---------------------------------------------------------------------------\u001b[0m",
      "\u001b[0;31mNameError\u001b[0m                                 Traceback (most recent call last)",
      "Cell \u001b[0;32mIn[6], line 1\u001b[0m\n\u001b[0;32m----> 1\u001b[0m \u001b[43mtest\u001b[49m\n",
      "\u001b[0;31mNameError\u001b[0m: name 'test' is not defined"
     ]
    }
   ],
   "source": [
    "test"
   ]
  },
  {
   "cell_type": "code",
   "execution_count": null,
   "id": "3913a5b6-d897-4f42-afce-4ba92b29efac",
   "metadata": {},
   "outputs": [],
   "source": []
  },
  {
   "cell_type": "code",
   "execution_count": null,
   "id": "c75a0fd9-8fe3-44c2-b318-5e08a11e6bc1",
   "metadata": {},
   "outputs": [],
   "source": []
  }
 ],
 "metadata": {
  "kernelspec": {
   "display_name": "Python 3 (ipykernel)",
   "language": "python",
   "name": "python3"
  },
  "language_info": {
   "codemirror_mode": {
    "name": "ipython",
    "version": 3
   },
   "file_extension": ".py",
   "mimetype": "text/x-python",
   "name": "python",
   "nbconvert_exporter": "python",
   "pygments_lexer": "ipython3",
   "version": "3.12.3"
  }
 },
 "nbformat": 4,
 "nbformat_minor": 5
}
