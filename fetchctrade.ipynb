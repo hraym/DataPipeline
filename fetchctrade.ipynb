{
 "cells": [
  {
   "cell_type": "code",
   "execution_count": 52,
   "id": "a631d800-1550-48b0-9648-0922f23bafbb",
   "metadata": {},
   "outputs": [],
   "source": [
    "import os\n",
    "from dotenv import load_dotenv\n",
    "\n",
    "# Load the 'env' file\n",
    "load_dotenv('env')\n",
    "\n",
    "# Access your API key\n",
    "api_key = os.getenv('API_KEY')"
   ]
  },
  {
   "cell_type": "code",
   "execution_count": 51,
   "id": "0f26c57e-ac81-4da9-b81c-6f2ebf48afe8",
   "metadata": {},
   "outputs": [
    {
     "name": "stdout",
     "output_type": "stream",
     "text": [
      "Nigeria's Trade Data for May 2022 (2-digit HS classification)\n",
      "\n",
      "Imports:\n",
      "HS TO: $4,941,153,768.25\n",
      "\n",
      "Exports:\n",
      "HS TO: $6,344,039,615.80\n"
     ]
    }
   ],
   "source": [
    "import requests\n",
    "import json\n",
    "from collections import defaultdict\n",
    "\n",
    "# API endpoint\n",
    "url = \"https://comtradeapi.un.org/data/v1/get/C/M/HS\"\n",
    "\n",
    "# Parameters for the request\n",
    "params = {\n",
    "    \"reporterCode\": \"566\",  # Code for Nigeria\n",
    "    \"period\": \"202205\",     # May 2022\n",
    "    \"partnerCode\": \"0\",     # 0 for World (all partners)\n",
    "    \"cmdCode\": \"TOTAL\",     # To get all HS codes\n",
    "    \"flowCode\": \"M,X\"       # M for imports, X for exports\n",
    "}\n",
    "\n",
    "# Headers (you might need to replace 'your_subscription_key' with an actual key)\n",
    "headers = {\n",
    "    \"Cache-Control\": \"no-cache\",\n",
    "    \"Ocp-Apim-Subscription-Key\": api_key\n",
    "}\n",
    "\n",
    "# Make the GET request\n",
    "response = requests.get(url, params=params, headers=headers)\n",
    "\n",
    "# Check if the request was successful\n",
    "if response.status_code == 200:\n",
    "    # Parse the JSON response\n",
    "    data = response.json()\n",
    "    \n",
    "    # Dictionaries to store import and export values\n",
    "    import_values = defaultdict(float)\n",
    "    export_values = defaultdict(float)\n",
    "    \n",
    "    # Process the data\n",
    "    for item in data.get('data', []):\n",
    "        hs_code = item.get('cmdCode')[:2]  # Get the first 2 digits of the HS code\n",
    "        trade_value = item.get('primaryValue', 0)\n",
    "        \n",
    "        if item.get('flowCode') == 'M':\n",
    "            import_values[hs_code] += trade_value\n",
    "        elif item.get('flowCode') == 'X':\n",
    "            export_values[hs_code] += trade_value\n",
    "    \n",
    "    # Print the results\n",
    "    print(\"Nigeria's Trade Data for May 2022 (2-digit HS classification)\")\n",
    "    print(\"\\nImports:\")\n",
    "    for hs_code, value in import_values.items():\n",
    "        print(f\"HS {hs_code}: ${value:,.2f}\")\n",
    "    \n",
    "    print(\"\\nExports:\")\n",
    "    for hs_code, value in export_values.items():\n",
    "        print(f\"HS {hs_code}: ${value:,.2f}\")\n",
    "else:\n",
    "    print(f\"Error: {response.status_code}\")\n",
    "    print(response.text)"
   ]
  }
 ],
 "metadata": {
  "kernelspec": {
   "display_name": "Python 3 (ipykernel)",
   "language": "python",
   "name": "python3"
  },
  "language_info": {
   "codemirror_mode": {
    "name": "ipython",
    "version": 3
   },
   "file_extension": ".py",
   "mimetype": "text/x-python",
   "name": "python",
   "nbconvert_exporter": "python",
   "pygments_lexer": "ipython3",
   "version": "3.12.3"
  }
 },
 "nbformat": 4,
 "nbformat_minor": 5
}
