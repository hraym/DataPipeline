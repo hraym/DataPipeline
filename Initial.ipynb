{
 "cells": [
  {
   "cell_type": "code",
   "execution_count": 1,
   "id": "69781115-e734-4e67-b0e6-fee4bc9dab16",
   "metadata": {},
   "outputs": [],
   "source": [
    "import pandas as pd"
   ]
  },
  {
   "cell_type": "code",
   "execution_count": 42,
   "id": "e619d5b3-6682-468f-ad54-99113cf70e6c",
   "metadata": {},
   "outputs": [],
   "source": [
    "import asyncio\n",
    "import aiohttp\n",
    "import pandas as pd\n",
    "import numpy as np\n",
    "from typing import List, Dict\n",
    "import nest_asyncio\n",
    "\n",
    "# Apply nest_asyncio to allow asyncio to work in Jupyter notebooks\n",
    "nest_asyncio.apply()\n",
    "\n",
    "async def fetch_page(session: aiohttp.ClientSession, url: str) -> List[Dict]:\n",
    "    \"\"\"\n",
    "    Fetch a single page of data from the World Bank API.\n",
    "    \n",
    "    Args:\n",
    "    session (aiohttp.ClientSession): The aiohttp session to use for requests\n",
    "    url (str): The URL to fetch data from\n",
    "    \n",
    "    Returns:\n",
    "    List[Dict]: A list of data dictionaries from the API response\n",
    "    \"\"\"\n",
    "    async with session.get(url) as response:\n",
    "        if response.status == 200:\n",
    "            data = await response.json()\n",
    "            return data\n",
    "        else:\n",
    "            print(f\"Error fetching data: HTTP {response.status}\")\n",
    "            return []\n",
    "\n",
    "async def fetch_world_bank_data(indicator: str) -> pd.DataFrame:\n",
    "    \"\"\"\n",
    "    Fetch data for all years and all countries for a specified indicator from the World Bank API.\n",
    "    \n",
    "    Args:\n",
    "    indicator (str): The indicator code (e.g., 'NY.GDP.PCAP.CD' for GDP per capita)\n",
    "    \n",
    "    Returns:\n",
    "    pd.DataFrame: A DataFrame containing the fetched data\n",
    "    \"\"\"\n",
    "    base_url = \"http://api.worldbank.org/v2/country/all/indicator/\"\n",
    "    per_page = 10000\n",
    "    \n",
    "    async with aiohttp.ClientSession() as session:\n",
    "        all_data = []\n",
    "        page = 1\n",
    "        \n",
    "        while True:\n",
    "            url = f\"{base_url}{indicator}?format=json&per_page={per_page}&page={page}\"\n",
    "            data = await fetch_page(session, url)\n",
    "            \n",
    "            if not data or len(data) < 2 or not data[1]:\n",
    "                break\n",
    "            \n",
    "            all_data.extend(data[1])\n",
    "            page += 1\n",
    "            \n",
    "            # Check if we've reached the last page\n",
    "            if len(data[1]) < per_page:\n",
    "                break\n",
    "    \n",
    "    # Convert the list of dictionaries to a DataFrame\n",
    "    df = pd.DataFrame(all_data)\n",
    "    \n",
    "    if df.empty:\n",
    "        return df\n",
    "    \n",
    "    # Process the DataFrame\n",
    "    df['country_name'] = df['country'].apply(lambda x: x['value'] if isinstance(x, dict) else x)\n",
    "    df['value'] = pd.to_numeric(df['value'], errors='coerce')\n",
    "    df['date'] = pd.to_datetime(df['date'].astype(str), format='%Y', errors='coerce')\n",
    "    df = df.drop(columns=['indicator', 'obs_status', 'decimal', 'country'])\n",
    "    \n",
    "    return df\n",
    "\n",
    "# Function to run the async code\n",
    "def get_world_bank_data(indicator: str) -> pd.DataFrame:\n",
    "    return asyncio.run(fetch_world_bank_data(indicator))\n"
   ]
  },
  {
   "cell_type": "code",
   "execution_count": 45,
   "id": "afd8e7c4-0a9a-4532-85cc-5c654532c743",
   "metadata": {},
   "outputs": [
    {
     "name": "stdout",
     "output_type": "stream",
     "text": [
      "Function execution time: 0.65 seconds\n",
      "  countryiso3code       date        value unit                 country_name\n",
      "0             AFE 2023-01-01  1672.505957       Africa Eastern and Southern\n",
      "1             AFE 2022-01-01  1642.432039       Africa Eastern and Southern\n",
      "2             AFE 2021-01-01  1545.956697       Africa Eastern and Southern\n",
      "3             AFE 2020-01-01  1356.088871       Africa Eastern and Southern\n",
      "4             AFE 2019-01-01  1508.486886       Africa Eastern and Southern\n"
     ]
    }
   ],
   "source": [
    "# Test Exanple\n",
    "if __name__ == \"__main__\":\n",
    "    indicator = \"NY.GDP.PCAP.CD\"  # GDP per capita\n",
    "    \n",
    "    start_time = time.time()  # Start the timer\n",
    "    df = get_world_bank_data(indicator)\n",
    "    end_time = time.time()    # End the timer\n",
    "    \n",
    "    elapsed_time = end_time - start_time  # Calculate the elapsed time\n",
    "    print(f\"Function execution time: {elapsed_time:.2f} seconds\")\n",
    "    \n",
    "    print(df.head())"
   ]
  }
 ],
 "metadata": {
  "kernelspec": {
   "display_name": "Python 3 (ipykernel)",
   "language": "python",
   "name": "python3"
  },
  "language_info": {
   "codemirror_mode": {
    "name": "ipython",
    "version": 3
   },
   "file_extension": ".py",
   "mimetype": "text/x-python",
   "name": "python",
   "nbconvert_exporter": "python",
   "pygments_lexer": "ipython3",
   "version": "3.12.3"
  }
 },
 "nbformat": 4,
 "nbformat_minor": 5
}
