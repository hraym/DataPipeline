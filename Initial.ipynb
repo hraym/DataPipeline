{
 "cells": [
  {
   "cell_type": "code",
   "execution_count": 9,
   "id": "69781115-e734-4e67-b0e6-fee4bc9dab16",
   "metadata": {},
   "outputs": [],
   "source": [
    "import requests\n",
    "import pandas as pd\n",
    "from typing import List, Union\n",
    "import logging\n",
    "\n",
    "# Configure logging\n",
    "logging.basicConfig(level=logging.INFO, format='%(asctime)s - %(levelname)s - %(message)s')\n",
    "logger = logging.getLogger(__name__)\n",
    "\n",
    "# Constants\n",
    "WORLD_BANK_URL = 'http://api.worldbank.org/v2'\n",
    "\n",
    "def fetch_world_bank_data(indicator: str, countries: Union[str, List[str]], start_year: int = 1960, end_year: int = None) -> pd.DataFrame:\n",
    "    \"\"\"Fetch data for specified years and countries for a given indicator from the World Bank API.\"\"\"\n",
    "    if end_year is None:\n",
    "        end_year = pd.Timestamp.now().year\n",
    "    \n",
    "    countries_str = ';'.join(countries) if isinstance(countries, list) else countries\n",
    "    \n",
    "    url = f\"{WORLD_BANK_URL}/country/{countries_str}/indicator/{indicator}\"\n",
    "    params = {\n",
    "        'format': 'json',\n",
    "        'per_page': 1000,  # Increased from default 50\n",
    "        'date': f\"{start_year}:{end_year}\"\n",
    "    }\n",
    "    \n",
    "    all_data = []\n",
    "    page = 1\n",
    "    \n",
    "    while True:\n",
    "        params['page'] = page\n",
    "        try:\n",
    "            response = requests.get(url, params=params)\n",
    "            response.raise_for_status()\n",
    "            data = response.json()\n",
    "            \n",
    "            if not data or len(data) < 2 or not data[1]:\n",
    "                break\n",
    "            \n",
    "            all_data.extend(data[1])\n",
    "            \n",
    "            if len(data[1]) < params['per_page']:\n",
    "                break\n",
    "            \n",
    "            page += 1\n",
    "        except requests.RequestException as e:\n",
    "            logger.error(f\"Error fetching data: {str(e)}\")\n",
    "            break\n",
    "    \n",
    "    return process_world_bank_data(all_data, indicator)\n",
    "\n",
    "def process_world_bank_data(data: List[dict], indicator: str) -> pd.DataFrame:\n",
    "    \"\"\"Process the fetched World Bank data into a DataFrame.\"\"\"\n",
    "    if not data:\n",
    "        logger.warning(f\"No data retrieved for indicator: {indicator}\")\n",
    "        return pd.DataFrame()\n",
    "\n",
    "    df = pd.DataFrame(data)\n",
    "    \n",
    "    df['country_name'] = df['country'].apply(lambda x: x['value'] if isinstance(x, dict) else x)\n",
    "    df['value'] = pd.to_numeric(df['value'], errors='coerce')\n",
    "    df['date'] = pd.to_datetime(df['date'], format='%Y')\n",
    "    \n",
    "    df = df.drop(columns=['indicator', 'obs_status', 'decimal', 'country'])\n",
    "    df = df.rename(columns={'countryiso3code': 'country_code', 'date': 'year', 'value': indicator})\n",
    "    \n",
    "    return df.set_index(['country_name', 'country_code', 'year']).sort_index()\n",
    "\n",
    "def get_world_bank_data(indicator: str, countries: Union[str, List[str]], start_year: int = 1960, end_year: int = None) -> pd.DataFrame:\n",
    "    \"\"\"Fetch and process World Bank data for a given indicator.\"\"\"\n",
    "    try:\n",
    "        df = fetch_world_bank_data(indicator, countries, start_year, end_year)\n",
    "        logger.info(f\"Successfully retrieved data for {indicator}\")\n",
    "        return df\n",
    "    except Exception as e:\n",
    "        logger.exception(f\"Error retrieving data for {indicator}: {str(e)}\")\n",
    "        return pd.DataFrame()"
   ]
  },
  {
   "cell_type": "code",
   "execution_count": 12,
   "id": "aa2e581d-42f7-4db0-a0f1-425f31a88df5",
   "metadata": {},
   "outputs": [
    {
     "name": "stderr",
     "output_type": "stream",
     "text": [
      "2024-08-05 13:31:06,088 - INFO - Successfully retrieved data for NY.GDP.PCAP.CD\n"
     ]
    },
    {
     "name": "stdout",
     "output_type": "stream",
     "text": [
      "                                      NY.GDP.PCAP.CD unit\n",
      "country_name country_code year                           \n",
      "Australia    AUS          2000-01-01    21870.415967     \n",
      "                          2001-01-01    19695.729738     \n",
      "                          2002-01-01    20301.843171     \n",
      "                          2003-01-01    23718.133850     \n",
      "                          2004-01-01    30836.730682     \n",
      "Execution time: 0.57 seconds\n"
     ]
    }
   ],
   "source": [
    "import time\n",
    "\n",
    "if __name__ == \"__main__\":\n",
    "    indicator = \"NY.GDP.PCAP.CD\"\n",
    "    countries = [\"AUS\", \"UKR\", \"JPN\"]\n",
    "    start_year = 2000\n",
    "    end_year = 2020\n",
    "\n",
    "    start_time = time.time()\n",
    "    df = get_world_bank_data(indicator, countries, start_year, end_year)\n",
    "    end_time = time.time()\n",
    "\n",
    "    print(df.head())\n",
    "    print(f\"Execution time: {end_time - start_time:.2f} seconds\")"
   ]
  },
  {
   "cell_type": "code",
   "execution_count": 13,
   "id": "db81258f-7f7b-440b-810b-84d485f00ee7",
   "metadata": {},
   "outputs": [
    {
     "name": "stdout",
     "output_type": "stream",
     "text": [
      "Time taken to fetch data: 0.27 seconds\n",
      "                                                               NY.GDP.PCAP.CD\n",
      "Country                     Series                       Year                \n",
      "Africa Eastern and Southern GDP per capita (current US$) 1974      421.977185\n",
      "                                                         1975      435.977902\n",
      "                                                         1976      430.261244\n",
      "                                                         1977      468.301007\n",
      "                                                         1978      509.479882\n",
      "Shape of the DataFrame: (13300, 1)\n"
     ]
    }
   ],
   "source": [
    "import time\n",
    "import world_bank_data as wb\n",
    "import pandas as pd\n",
    "\n",
    "def get_world_bank_data(indicator: str, years: int = 1) -> pd.DataFrame:\n",
    "    start_time = time.time()\n",
    "    \n",
    "    # Fetch the data\n",
    "    data = wb.get_series(indicator, mrv=years)\n",
    "    \n",
    "    # Convert to DataFrame if it's not already\n",
    "    if not isinstance(data, pd.DataFrame):\n",
    "        data = data.to_frame()\n",
    "    \n",
    "    end_time = time.time()\n",
    "    elapsed_time = end_time - start_time\n",
    "    \n",
    "    print(f\"Time taken to fetch data: {elapsed_time:.2f} seconds\")\n",
    "    return data\n",
    "\n",
    "# Example usage\n",
    "if __name__ == \"__main__\":\n",
    "    indicator = \"NY.GDP.PCAP.CD\"  # GDP per capita\n",
    "    years = 50  # Let's fetch 10 years of data\n",
    "    \n",
    "    df = get_world_bank_data(indicator, years)\n",
    "    print(df.head())\n",
    "    print(f\"Shape of the DataFrame: {df.shape}\")"
   ]
  }
 ],
 "metadata": {
  "kernelspec": {
   "display_name": "Python 3 (ipykernel)",
   "language": "python",
   "name": "python3"
  },
  "language_info": {
   "codemirror_mode": {
    "name": "ipython",
    "version": 3
   },
   "file_extension": ".py",
   "mimetype": "text/x-python",
   "name": "python",
   "nbconvert_exporter": "python",
   "pygments_lexer": "ipython3",
   "version": "3.12.3"
  }
 },
 "nbformat": 4,
 "nbformat_minor": 5
}
