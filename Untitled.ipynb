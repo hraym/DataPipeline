{
 "cells": [
  {
   "cell_type": "code",
   "execution_count": 3,
   "id": "1a39309e-7440-43c6-ac35-c53982b72f99",
   "metadata": {},
   "outputs": [
    {
     "ename": "ModuleNotFoundError",
     "evalue": "No module named 'call_wb'",
     "output_type": "error",
     "traceback": [
      "\u001b[0;31m---------------------------------------------------------------------------\u001b[0m",
      "\u001b[0;31mModuleNotFoundError\u001b[0m                       Traceback (most recent call last)",
      "Cell \u001b[0;32mIn[3], line 3\u001b[0m\n\u001b[1;32m      1\u001b[0m \u001b[38;5;66;03m# your_dashboard_script.py\u001b[39;00m\n\u001b[0;32m----> 3\u001b[0m \u001b[38;5;28;01mfrom\u001b[39;00m \u001b[38;5;21;01mcall_wb\u001b[39;00m \u001b[38;5;28;01mimport\u001b[39;00m get_world_bank_data\n\u001b[1;32m      5\u001b[0m \u001b[38;5;66;03m# Use the function\u001b[39;00m\n\u001b[1;32m      6\u001b[0m df \u001b[38;5;241m=\u001b[39m get_world_bank_data(\u001b[38;5;124m'\u001b[39m\u001b[38;5;124mNY.GDP.MKTP.CD\u001b[39m\u001b[38;5;124m'\u001b[39m, [\u001b[38;5;124m'\u001b[39m\u001b[38;5;124mUSA\u001b[39m\u001b[38;5;124m'\u001b[39m, \u001b[38;5;124m'\u001b[39m\u001b[38;5;124mGBR\u001b[39m\u001b[38;5;124m'\u001b[39m], \u001b[38;5;241m2000\u001b[39m, \u001b[38;5;241m2020\u001b[39m)\n",
      "\u001b[0;31mModuleNotFoundError\u001b[0m: No module named 'call_wb'"
     ]
    }
   ],
   "source": [
    "# your_dashboard_script.py\n",
    "\n",
    "from call_wb import get_world_bank_data\n",
    "\n",
    "# Use the function\n",
    "df = get_world_bank_data('NY.GDP.MKTP.CD', ['USA', 'GBR'], 2000, 2020)"
   ]
  },
  {
   "cell_type": "code",
   "execution_count": 1,
   "id": "4a0e763c-e71b-43e4-9abf-ad162f80679a",
   "metadata": {},
   "outputs": [
    {
     "ename": "NameError",
     "evalue": "name 'get_world_bank_data' is not defined",
     "output_type": "error",
     "traceback": [
      "\u001b[0;31m---------------------------------------------------------------------------\u001b[0m",
      "\u001b[0;31mNameError\u001b[0m                                 Traceback (most recent call last)",
      "Cell \u001b[0;32mIn[1], line 17\u001b[0m\n\u001b[1;32m     15\u001b[0m data_frames: List[pd\u001b[38;5;241m.\u001b[39mDataFrame] \u001b[38;5;241m=\u001b[39m []\n\u001b[1;32m     16\u001b[0m \u001b[38;5;28;01mfor\u001b[39;00m indicator \u001b[38;5;129;01min\u001b[39;00m indicators:\n\u001b[0;32m---> 17\u001b[0m     df \u001b[38;5;241m=\u001b[39m \u001b[43mget_world_bank_data\u001b[49m(indicator, african_countries)\n\u001b[1;32m     18\u001b[0m     data_frames\u001b[38;5;241m.\u001b[39mappend(df)\n\u001b[1;32m     20\u001b[0m \u001b[38;5;66;03m# Combine all data frames\u001b[39;00m\n",
      "\u001b[0;31mNameError\u001b[0m: name 'get_world_bank_data' is not defined"
     ]
    }
   ],
   "source": [
    "import pandas as pd\n",
    "from typing import List\n",
    "\n",
    "# List of African countries (you may want to expand this list)\n",
    "african_countries = ['ZAF', 'EGY', 'NGA', 'KEN', 'ETH', 'GHA', 'TZA', 'UGA', 'CIV', 'CMR']\n",
    "\n",
    "# List of indicators\n",
    "indicators = [\n",
    "    'NY.GDP.MKTP.CD', 'NY.GDP.PCAP.CD', 'NY.GDP.MKTP.KD.ZG', 'FP.CPI.TOTL.ZG',\n",
    "    'SL.UEM.TOTL.ZS', 'BX.KLT.DINV.WD.GD.ZS', 'DT.DOD.DECT.CD',\n",
    "    'GC.BAL.CASH.GD.ZS', 'BN.CAB.XOKA.GD.ZS', 'SP.POP.TOTL'\n",
    "]\n",
    "\n",
    "# Fetch data for all indicators\n",
    "data_frames: List[pd.DataFrame] = []\n",
    "for indicator in indicators:\n",
    "    df = get_world_bank_data(indicator, african_countries)\n",
    "    data_frames.append(df)\n",
    "\n",
    "# Combine all data frames\n",
    "combined_data = pd.concat(data_frames, axis=1)"
   ]
  },
  {
   "cell_type": "code",
   "execution_count": null,
   "id": "8e4f69c4-eb74-43c7-9441-b57fbda2f4d5",
   "metadata": {},
   "outputs": [],
   "source": [
    "# Reshape the data for easier manipulation\n",
    "combined_data_melted = combined_data.reset_index().melt(\n",
    "    id_vars=['Country', 'Year'],\n",
    "    var_name='Indicator',\n",
    "    value_name='Value'\n",
    ")\n",
    "\n",
    "# Create a pivot table for easier access to indicators\n",
    "data_pivot = combined_data_melted.pivot_table(\n",
    "    values='Value',\n",
    "    index=['Country', 'Year'],\n",
    "    columns='Indicator'\n",
    ").reset_index()"
   ]
  },
  {
   "cell_type": "code",
   "execution_count": null,
   "id": "3913a5b6-d897-4f42-afce-4ba92b29efac",
   "metadata": {},
   "outputs": [],
   "source": [
    "import dash\n",
    "from dash import dcc, html\n",
    "from dash.dependencies import Input, Output\n",
    "import plotly.express as px\n",
    "\n",
    "app = dash.Dash(__name__)\n",
    "\n",
    "# Define the layout\n",
    "app.layout = html.Div([\n",
    "    html.H1(\"African Countries Economic Dashboard\"),\n",
    "    dcc.Dropdown(\n",
    "        id='country-dropdown',\n",
    "        options=[{'label': country, 'value': country} for country in african_countries],\n",
    "        value=african_countries[0]\n",
    "    ),\n",
    "    dcc.Graph(id='indicator-graph')\n",
    "])\n",
    "\n",
    "# Define callback to update graph\n",
    "@app.callback(\n",
    "    Output('indicator-graph', 'figure'),\n",
    "    Input('country-dropdown', 'value')\n",
    ")\n",
    "def update_graph(selected_country):\n",
    "    country_data = data_pivot[data_pivot['Country'] == selected_country]\n",
    "    \n",
    "    fig = px.line(\n",
    "        country_data,\n",
    "        x='Year',\n",
    "        y=indicators,\n",
    "        title=f'Economic Indicators for {selected_country}'\n",
    "    )\n",
    "    return fig\n",
    "\n",
    "if __name__ == '__main__':\n",
    "    app.run_server(debug=True)"
   ]
  },
  {
   "cell_type": "code",
   "execution_count": null,
   "id": "c75a0fd9-8fe3-44c2-b318-5e08a11e6bc1",
   "metadata": {},
   "outputs": [],
   "source": [
    "app.layout = html.Div([\n",
    "    html.H1(\"African Countries Economic Dashboard\"),\n",
    "    dcc.Dropdown(\n",
    "        id='country-dropdown',\n",
    "        options=[{'label': country, 'value': country} for country in african_countries],\n",
    "        value=african_countries[0]\n",
    "    ),\n",
    "    dcc.Tabs([\n",
    "        dcc.Tab(label='GDP', children=[\n",
    "            dcc.Graph(id='gdp-graph')\n",
    "        ]),\n",
    "        dcc.Tab(label='Inflation & Unemployment', children=[\n",
    "            dcc.Graph(id='inflation-unemployment-graph')\n",
    "        ]),\n",
    "        dcc.Tab(label='Investment & Debt', children=[\n",
    "            dcc.Graph(id='investment-debt-graph')\n",
    "        ]),\n",
    "    ]),\n",
    "    dcc.RangeSlider(\n",
    "        id='year-slider',\n",
    "        min=data_pivot['Year'].min(),\n",
    "        max=data_pivot['Year'].max(),\n",
    "        value=[data_pivot['Year'].min(), data_pivot['Year'].max()],\n",
    "        marks={str(year): str(year) for year in range(data_pivot['Year'].min(), data_pivot['Year'].max() + 1, 5)},\n",
    "        step=1\n",
    "    )\n",
    "])\n",
    "\n",
    "# Define callbacks for each tab\n",
    "@app.callback(\n",
    "    Output('gdp-graph', 'figure'),\n",
    "    [Input('country-dropdown', 'value'),\n",
    "     Input('year-slider', 'value')]\n",
    ")\n",
    "def update_gdp_graph(selected_country, selected_years):\n",
    "    country_data = data_pivot[(data_pivot['Country'] == selected_country) & \n",
    "                              (data_pivot['Year'] >= selected_years[0]) & \n",
    "                              (data_pivot['Year'] <= selected_years[1])]\n",
    "    \n",
    "    fig = px.line(\n",
    "        country_data,\n",
    "        x='Year',\n",
    "        y=['NY.GDP.MKTP.CD', 'NY.GDP.PCAP.CD', 'NY.GDP.MKTP.KD.ZG'],\n",
    "        title=f'GDP Indicators for {selected_country}'\n",
    "    )\n",
    "    return fig\n",
    "\n",
    "# Implement similar callbacks for other tabs\n",
    "\n",
    "if __name__ == '__main__':\n",
    "    app.run_server(debug=True)"
   ]
  }
 ],
 "metadata": {
  "kernelspec": {
   "display_name": "Python 3 (ipykernel)",
   "language": "python",
   "name": "python3"
  },
  "language_info": {
   "codemirror_mode": {
    "name": "ipython",
    "version": 3
   },
   "file_extension": ".py",
   "mimetype": "text/x-python",
   "name": "python",
   "nbconvert_exporter": "python",
   "pygments_lexer": "ipython3",
   "version": "3.12.3"
  }
 },
 "nbformat": 4,
 "nbformat_minor": 5
}
